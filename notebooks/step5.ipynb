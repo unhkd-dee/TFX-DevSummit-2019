{
  "cells": [
    {
      "metadata": {
        "id": "qH3ekgl-9Re9",
        "colab_type": "text"
      },
      "cell_type": "markdown",
      "source": [
        "# Step 5: Train a Model\n",
        "\n",
        "Use the code below to run TensorBoard on the model in your pipeline."
      ]
    },
    {
      "metadata": {
        "id": "x6S6gL879RfA",
        "colab_type": "code",
        "colab": {}
      },
      "cell_type": "code",
      "source": [
        "from __future__ import print_function\n",
        "\n",
        "import os\n",
        "import tfx_utils\n",
        "\n",
        "def _make_default_sqlite_uri(pipeline_name):\n",
        "    return os.path.join(os.environ['HOME'], 'airflow/tfx/metadata', pipeline_name, 'metadata.db')\n",
        "\n",
        "def get_metadata_store(pipeline_name):\n",
        "    return tfx_utils.TFXReadonlyMetadataStore.from_sqlite_db(_make_default_sqlite_uri(pipeline_name))\n",
        "\n",
        "pipeline_name = 'taxi'\n",
        "pipeline_db_path = _make_default_sqlite_uri(pipeline_name)\n",
        "print('Pipeline DB:\\n{}'.format(pipeline_db_path))\n",
        "\n",
        "store = get_metadata_store(pipeline_name)"
      ],
      "execution_count": 0,
      "outputs": []
    },
    {
      "metadata": {
        "id": "MTUR3ZqR9RfE",
        "colab_type": "text"
      },
      "cell_type": "markdown",
      "source": [
        "Now get the model artifacts:"
      ]
    },
    {
      "metadata": {
        "id": "-Ihjns0H9RfF",
        "colab_type": "code",
        "colab": {}
      },
      "cell_type": "code",
      "source": [
        "store.get_artifacts_of_type_df(tfx_utils.TFXArtifactTypes.MODEL)"
      ],
      "execution_count": 0,
      "outputs": []
    },
    {
      "metadata": {
        "id": "ScRHW9el9RfI",
        "colab_type": "text"
      },
      "cell_type": "markdown",
      "source": [
        "Now start TensorBoard:"
      ]
    },
    {
      "metadata": {
        "id": "JcfK0lmr9RfI",
        "colab_type": "code",
        "colab": {}
      },
      "cell_type": "code",
      "source": [
        "print(store.display_tensorboard(<insert model ID here>)) # in case of multiple models, (id, id)"
      ],
      "execution_count": 0,
      "outputs": []
    }
  ]
}
