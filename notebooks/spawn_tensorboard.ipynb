{
  "nbformat": 4,
  "nbformat_minor": 0,
  "metadata": {
    "colab": {
      "name": "spawn_tensorboard.ipynb",
      "version": "0.3.2",
      "provenance": []
    },
    "kernelspec": {
      "display_name": "Python 2",
      "language": "python",
      "name": "python2"
    }
  },
  "cells": [
    {
      "metadata": {
        "id": "pcPB4zxw4GX6",
        "colab_type": "code",
        "colab": {}
      },
      "cell_type": "code",
      "source": [
        "import os\n",
        "import sys"
      ],
      "execution_count": 0,
      "outputs": []
    },
    {
      "metadata": {
        "id": "QdIoNIVc4GYB",
        "colab_type": "code",
        "colab": {}
      },
      "cell_type": "code",
      "source": [
        "!{sys.executable} -m pip install -q tensorboard"
      ],
      "execution_count": 0,
      "outputs": []
    },
    {
      "metadata": {
        "tags": [
          "parameters"
        ],
        "id": "nZ5EzLq34GYE",
        "colab_type": "code",
        "colab": {}
      },
      "cell_type": "code",
      "source": [
        "tb_logdir='/tmp'\n",
        "tb_run_log='/usr/local/google/home/vemmadi/foo.txt'"
      ],
      "execution_count": 0,
      "outputs": []
    },
    {
      "metadata": {
        "id": "i5q83fLA4GYH",
        "colab_type": "code",
        "colab": {}
      },
      "cell_type": "code",
      "source": [
        "import os\n",
        "os.environ['TENSORBOARD_LOGDIR'] = tb_logdir\n",
        "os.environ['TENSORBOARD_RUNLOG'] = tb_run_log"
      ],
      "execution_count": 0,
      "outputs": []
    },
    {
      "metadata": {
        "id": "2sKycw4R4GYK",
        "colab_type": "code",
        "colab": {},
        "outputId": "5c4571f5-b2cc-4ae5-c686-d35e81099021"
      },
      "cell_type": "code",
      "source": [
        "%%bash --bg -s\n",
        "nohup tensorboard \\\n",
        "  --logdir \"${TENSORBOARD_LOGDIR}\" \\\n",
        "  --port 0 > \"${TENSORBOARD_RUNLOG}\" 2>&1"
      ],
      "execution_count": 0,
      "outputs": [
        {
          "output_type": "stream",
          "text": [
            "Starting job # 14 in a separate thread.\n"
          ],
          "name": "stdout"
        }
      ]
    }
  ]
}