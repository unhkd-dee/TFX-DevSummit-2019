{
  "nbformat": 4,
  "nbformat_minor": 0,
  "metadata": {
    "colab": {
      "name": "step3.ipynb",
      "version": "0.3.2",
      "provenance": []
    },
    "kernelspec": {
      "display_name": "Python 2",
      "language": "python",
      "name": "python2"
    }
  },
  "cells": [
    {
      "metadata": {
        "id": "xDr1Cvkn4Wtn",
        "colab_type": "text"
      },
      "cell_type": "markdown",
      "source": [
        "# Step 3: Data Validation\n",
        "\n",
        "Use the code below to run TensorFlow Data Validation on your pipeline.  Start by importing and opening the metadata store."
      ]
    },
    {
      "metadata": {
        "id": "KKLCpVM_4Wts",
        "colab_type": "code",
        "colab": {}
      },
      "cell_type": "code",
      "source": [
        "from __future__ import print_function\n",
        "\n",
        "!pip install -q papermill\n",
        "!pip install -q matplotlib\n",
        "!pip install -q networkx\n",
        "\n",
        "import os\n",
        "import tfx_utils\n",
        "%matplotlib notebook\n",
        "\n",
        "def _make_default_sqlite_uri(pipeline_name):\n",
        "    return os.path.join(os.environ['HOME'], 'airflow/tfx/metadata', pipeline_name, 'metadata.db')\n",
        "\n",
        "def get_metadata_store(pipeline_name):\n",
        "    return tfx_utils.TFXReadonlyMetadataStore.from_sqlite_db(_make_default_sqlite_uri(pipeline_name))\n",
        "\n",
        "pipeline_name = 'taxi'\n",
        "\n",
        "pipeline_db_path = _make_default_sqlite_uri(pipeline_name)\n",
        "print('Pipeline DB:\\n{}'.format(pipeline_db_path))\n",
        "\n",
        "store = get_metadata_store(pipeline_name)"
      ],
      "execution_count": 0,
      "outputs": []
    },
    {
      "metadata": {
        "id": "HHhZXYi24Wty",
        "colab_type": "text"
      },
      "cell_type": "markdown",
      "source": [
        "Now print out the data artifacts:"
      ]
    },
    {
      "metadata": {
        "id": "4EgQ-j1I4Wty",
        "colab_type": "code",
        "colab": {}
      },
      "cell_type": "code",
      "source": [
        "# Visualize properties of example artifacts\n",
        "store.get_artifacts_of_type_df(tfx_utils.TFXArtifactTypes.EXAMPLES)"
      ],
      "execution_count": 0,
      "outputs": []
    },
    {
      "metadata": {
        "id": "yDwq1A_k4Wt1",
        "colab_type": "text"
      },
      "cell_type": "markdown",
      "source": [
        "Now visualize the dataset features.\n",
        "\n",
        "Hint: try ID 2 or 3"
      ]
    },
    {
      "metadata": {
        "id": "m6_bkrJ34Wt2",
        "colab_type": "code",
        "colab": {}
      },
      "cell_type": "code",
      "source": [
        "# Visualize stats for data\n",
        "%matplotlib notebook\n",
        "store.display_stats_for_examples(<insert ID here>)"
      ],
      "execution_count": 0,
      "outputs": []
    },
    {
      "metadata": {
        "id": "CZ2zgBBq4Wt5",
        "colab_type": "text"
      },
      "cell_type": "markdown",
      "source": [
        "Now plot the artifact lineage:"
      ]
    },
    {
      "metadata": {
        "id": "SmboxNed4Wt6",
        "colab_type": "code",
        "colab": {}
      },
      "cell_type": "code",
      "source": [
        "store.plot_artifact_lineage(<insert ID here>)"
      ],
      "execution_count": 0,
      "outputs": []
    }
  ]
}