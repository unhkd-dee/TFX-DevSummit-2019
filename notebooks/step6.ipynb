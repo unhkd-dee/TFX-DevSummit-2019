  "cells": [
    {
      "metadata": {
        "id": "7JzcuaKN4Udb",
        "colab_type": "text"
      },
      "cell_type": "markdown",
      "source": [
        "# Step 6: Analyze Model Performance\n",
        "\n",
        "Use the code below to run TensorFlow Model Analysis on the model in your pipeline. Start by importing and opening the metadata store."
      ]
    },
    {
      "metadata": {
        "id": "Dq3zq4ov4Udg",
        "colab_type": "code",
        "colab": {}
      },
      "cell_type": "code",
      "source": [
        "from __future__ import print_function\n",
        "\n",
        "import os\n",
        "import tfx_utils\n",
        "%matplotlib notebook\n",
        "\n",
        "def _make_default_sqlite_uri(pipeline_name):\n",
        "    return os.path.join(os.environ['HOME'], 'airflow/tfx/metadata', pipeline_name, 'metadata.db')\n",
        "\n",
        "def get_metadata_store(pipeline_name):\n",
        "    return tfx_utils.TFXReadonlyMetadataStore.from_sqlite_db(_make_default_sqlite_uri(pipeline_name))\n",
        "\n",
        "pipeline_name = 'taxi'\n",
        "pipeline_db_path = _make_default_sqlite_uri(pipeline_name)\n",
        "print('Pipeline DB:\\n{}'.format(pipeline_db_path))\n",
        "\n",
        "store = get_metadata_store(pipeline_name)"
      ],
      "execution_count": 0,
      "outputs": []
    },
    {
      "metadata": {
        "id": "bGWkMVf14Udl",
        "colab_type": "text"
      },
      "cell_type": "markdown",
      "source": [
        "Now print out the model artifacts:"
      ]
    },
    {
      "metadata": {
        "id": "dfxSbEhs4Udm",
        "colab_type": "code",
        "colab": {}
      },
      "cell_type": "code",
      "source": [
        "store.get_artifacts_of_type_df(tfx_utils.TFXArtifactTypes.MODEL)"
      ],
      "execution_count": 0,
      "outputs": []
    },
    {
      "metadata": {
        "id": "LZJFXyCz4Udp",
        "colab_type": "text"
      },
      "cell_type": "markdown",
      "source": [
        "Now analyze the model performance:"
      ]
    },
    {
      "metadata": {
        "id": "hMz0smSl4Udq",
        "colab_type": "code",
        "colab": {}
      },
      "cell_type": "code",
      "source": [
        "%matplotlib notebook\n",
        "store.display_tfma_analysis(<insert model ID here>)"
      ],
      "execution_count": 0,
      "outputs": []
    },
    {
      "metadata": {
        "id": "MGpl8kC94Udv",
        "colab_type": "text"
      },
      "cell_type": "markdown",
      "source": [
        "Now plot the artifact lineage:"
      ]
    },
    {
      "metadata": {
        "id": "g29E15344Udv",
        "colab_type": "code",
        "colab": {}
      },
      "cell_type": "code",
      "source": [
        "store.plot_artifact_lineage(<insert model ID here>)"
      ],
      "execution_count": 0,
      "outputs": []
    }
  ]
}
{
  "nbformat": 4,
  "nbformat_minor": 0,
  "metadata": {
    "colab": {
      "name": "step6.ipynb",
      "version": "0.3.2",
      "provenance": []
    },
    "kernelspec": {
      "display_name": "Python 2",
      "language": "python",
      "name": "python2"
    }
